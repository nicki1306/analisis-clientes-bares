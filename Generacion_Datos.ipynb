{
 "cells": [
  {
   "cell_type": "code",
   "execution_count": 6,
   "id": "b1e6ff12-d839-425a-8069-6e170d278870",
   "metadata": {},
   "outputs": [],
   "source": [
    "import pandas as pd\n",
    "import numpy as np\n",
    "import random\n",
    "import os\n",
    "from datetime import datetime, timedelta\n"
   ]
  },
  {
   "cell_type": "code",
   "execution_count": 7,
   "id": "55aa44d7-a88b-4075-a924-8a53e1bb2c3c",
   "metadata": {},
   "outputs": [
    {
     "name": "stdout",
     "output_type": "stream",
     "text": [
      "Número de clientes a simular: 500\n",
      "Periodo de transacciones: Desde 2025-05-01 hasta 2026-05-01 (366 días)\n"
     ]
    }
   ],
   "source": [
    "num_clientes = 500\n",
    "fecha_inicio_str = \"2025-05-01\"\n",
    "fecha_fin_str = \"2026-05-01\"\n",
    "\n",
    "fecha_inicio = datetime.strptime(fecha_inicio_str, \"%Y-%m-%d\")\n",
    "fecha_fin = datetime.strptime(fecha_fin_str, \"%Y-%m-%d\")\n",
    "\n",
    "delta_dias_total = (fecha_fin - fecha_inicio).days\n",
    "\n",
    "categorias_productos_posibles = [\"cervezas\", \"tragos\", \"tragos de autor\", \"vinos\", \"Picadas\", \"entradas\", \"platos principales\", \"postres\", \"otros platos\", \"gaseosas\", \"aguas\", \"merch\", \"whiskys\", \"otras categorias\"]\n",
    "\n",
    "print(f\"Número de clientes a simular: {num_clientes}\")\n",
    "print(f\"Periodo de transacciones: Desde {fecha_inicio_str} hasta {fecha_fin_str} ({delta_dias_total + 1} días)\")\n"
   ]
  },
  {
   "cell_type": "code",
   "execution_count": 8,
   "id": "1db2a0fe-3a7e-47c8-85ee-2c0735a0a1cc",
   "metadata": {},
   "outputs": [
    {
     "name": "stdout",
     "output_type": "stream",
     "text": [
      "Se generaron 14786 transacciones en total.\n"
     ]
    }
   ],
   "source": [
    "cliente_ids = [f\"Cliente_{str(i).zfill(4)}\" for i in range(1, num_clientes + 1)]\n",
    "\n",
    "# Lista para almacenar todas las transacciones (cada transacción será un diccionario)\n",
    "transacciones_lista = []\n",
    "\n",
    "# Bucle principal: iterar sobre cada ID de cliente\n",
    "for cliente_id in cliente_ids:\n",
    "\n",
    "    num_visitas_cliente = random.randint(1, 60)\n",
    "\n",
    "    # Bucle secundario: iterar sobre cada visita simulada para el cliente actual\n",
    "    for _ in range(num_visitas_cliente):\n",
    "        # Simular una fecha aleatoria para la visita dentro del rango definido\n",
    "        dias_aleatorios_offset = random.randint(0, delta_dias_total)\n",
    "        fecha_visita = fecha_inicio + timedelta(days=dias_aleatorios_offset)\n",
    "\n",
    "        # Simular un monto de consumo aleatorio para esta visita\n",
    "\n",
    "        monto_consumo = round(random.uniform(5000, 50000), 2)\n",
    "\n",
    "        # Asignar una categoría de producto aleatoria a esta transacción\n",
    "        categoria_consumida = random.choice(categorias_productos_posibles)\n",
    "\n",
    "        # Añadir la transacción (como un diccionario) a nuestra lista\n",
    "        transacciones_lista.append({\n",
    "            \"ID_Cliente\": cliente_id,\n",
    "            \"Fecha_Visita\": fecha_visita,\n",
    "            \"Monto_Consumo\": monto_consumo,\n",
    "            \"Categoria_Producto\": categoria_consumida\n",
    "        })\n",
    "\n",
    "print(f\"Se generaron {len(transacciones_lista)} transacciones en total.\")"
   ]
  },
  {
   "cell_type": "code",
   "execution_count": 9,
   "id": "eafd25fd-b271-4746-ac5a-ce03256bc229",
   "metadata": {},
   "outputs": [
    {
     "name": "stdout",
     "output_type": "stream",
     "text": [
      "Primeras 5 transacciones generadas:\n",
      "     ID_Cliente Fecha_Visita  Monto_Consumo Categoria_Producto\n",
      "0  Cliente_0001   2026-03-23        7772.04            Picadas\n",
      "1  Cliente_0001   2025-09-06       43746.06              merch\n",
      "2  Cliente_0001   2026-03-23       47001.90            Picadas\n",
      "3  Cliente_0001   2025-09-14       45092.08             tragos\n",
      "4  Cliente_0001   2026-03-22        6497.97            whiskys\n",
      "\n",
      "Información del DataFrame:\n",
      "<class 'pandas.core.frame.DataFrame'>\n",
      "RangeIndex: 14786 entries, 0 to 14785\n",
      "Data columns (total 4 columns):\n",
      " #   Column              Non-Null Count  Dtype         \n",
      "---  ------              --------------  -----         \n",
      " 0   ID_Cliente          14786 non-null  object        \n",
      " 1   Fecha_Visita        14786 non-null  datetime64[ns]\n",
      " 2   Monto_Consumo       14786 non-null  float64       \n",
      " 3   Categoria_Producto  14786 non-null  object        \n",
      "dtypes: datetime64[ns](1), float64(1), object(2)\n",
      "memory usage: 462.2+ KB\n",
      "\n",
      "Primeras 5 transacciones después de ordenar:\n",
      "     ID_Cliente Fecha_Visita  Monto_Consumo Categoria_Producto\n",
      "0  Cliente_0001   2025-09-06       43746.06              merch\n",
      "1  Cliente_0001   2025-09-14       45092.08             tragos\n",
      "2  Cliente_0001   2026-03-22        6497.97            whiskys\n",
      "3  Cliente_0001   2026-03-23        7772.04            Picadas\n",
      "4  Cliente_0001   2026-03-23       47001.90            Picadas\n"
     ]
    }
   ],
   "source": [
    "# Convertir la lista de diccionarios de transacciones a un DataFrame de Pandas\n",
    "df_transacciones = pd.DataFrame(transacciones_lista)\n",
    "\n",
    "# (Opcional) Mostrar las primeras 5 filas para verificar\n",
    "print(\"Primeras 5 transacciones generadas:\")\n",
    "print(df_transacciones.head())\n",
    "\n",
    "# (Opcional) Mostrar información general del DataFrame\n",
    "print(\"\\nInformación del DataFrame:\")\n",
    "df_transacciones.info()\n",
    "\n",
    "# (Opcional) Ordenar los datos para una mejor visualización inicial (ej: por cliente y luego por fecha)\n",
    "df_transacciones = df_transacciones.sort_values(by=[\"ID_Cliente\", \"Fecha_Visita\"]).reset_index(drop=True)\n",
    "print(\"\\nPrimeras 5 transacciones después de ordenar:\")\n",
    "print(df_transacciones.head())"
   ]
  },
  {
   "cell_type": "code",
   "execution_count": 10,
   "id": "a72e1126-e322-4216-a220-db04ab0f076c",
   "metadata": {},
   "outputs": [
    {
     "name": "stdout",
     "output_type": "stream",
     "text": [
      "Carpeta 'data' ya existe.\n",
      "\n",
      "DataFrame guardado exitosamente como 'data\\transacciones_bar_la_paloma.csv'\n"
     ]
    }
   ],
   "source": [
    "# --- 3. Guardar el DataFrame resultante en un archivo CSV dentro de una carpeta data/ ---\n",
    "\n",
    "# Nombre de la carpeta donde guardaremos los datos\n",
    "output_dir = 'data'\n",
    "\n",
    "# Crear la carpeta 'data' si no existe\n",
    "if not os.path.exists(output_dir):\n",
    "    os.makedirs(output_dir)\n",
    "    print(f\"Carpeta '{output_dir}' creada.\")\n",
    "else:\n",
    "    print(f\"Carpeta '{output_dir}' ya existe.\")\n",
    "\n",
    "# Definir la ruta completa del archivo CSV\n",
    "ruta_csv = os.path.join(output_dir, 'transacciones_bar_la_paloma.csv')\n",
    "\n",
    "# Guardar el DataFrame como CSV\n",
    "# index=False evita que se guarde el índice del DataFrame como una columna en el CSV\n",
    "df_transacciones.to_csv(ruta_csv, index=False, date_format='%Y-%m-%d') # Especificar formato de fecha\n",
    "\n",
    "print(f\"\\nDataFrame guardado exitosamente como '{ruta_csv}'\")"
   ]
  },
  {
   "cell_type": "code",
   "execution_count": null,
   "id": "3d52dcab-4c1f-4c12-9833-abe70b48ac0d",
   "metadata": {},
   "outputs": [],
   "source": []
  }
 ],
 "metadata": {
  "kernelspec": {
   "display_name": "Python 3 (ipykernel)",
   "language": "python",
   "name": "python3"
  },
  "language_info": {
   "codemirror_mode": {
    "name": "ipython",
    "version": 3
   },
   "file_extension": ".py",
   "mimetype": "text/x-python",
   "name": "python",
   "nbconvert_exporter": "python",
   "pygments_lexer": "ipython3",
   "version": "3.13.1"
  }
 },
 "nbformat": 4,
 "nbformat_minor": 5
}
