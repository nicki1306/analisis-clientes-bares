{
 "cells": [
  {
   "cell_type": "code",
   "execution_count": 2,
   "id": "b1e6ff12-d839-425a-8069-6e170d278870",
   "metadata": {},
   "outputs": [],
   "source": [
    "import pandas as pd\n",
    "import numpy as np\n",
    "import random\n",
    "from datetime import datetime, timedelta\n"
   ]
  },
  {
   "cell_type": "code",
   "execution_count": null,
   "id": "55aa44d7-a88b-4075-a924-8a53e1bb2c3c",
   "metadata": {},
   "outputs": [],
   "source": [
    "num_clientes = 500\n",
    "Fecha_inicio_str = \"2025-05-01\n",
    "fecha_fin_str = \"2026-05-01\n",
    "\n",
    "fecha_inicio = datetime.strptime(fecha_inicio_str, \"%Y-%m-%d\")\n",
    "fecha_fin = datetime.strptime(fecha_fin_str, \"%Y-%m-%d\")\n"
   ]
  }
 ],
 "metadata": {
  "kernelspec": {
   "display_name": "Python 3 (ipykernel)",
   "language": "python",
   "name": "python3"
  },
  "language_info": {
   "codemirror_mode": {
    "name": "ipython",
    "version": 3
   },
   "file_extension": ".py",
   "mimetype": "text/x-python",
   "name": "python",
   "nbconvert_exporter": "python",
   "pygments_lexer": "ipython3",
   "version": "3.13.1"
  }
 },
 "nbformat": 4,
 "nbformat_minor": 5
}
